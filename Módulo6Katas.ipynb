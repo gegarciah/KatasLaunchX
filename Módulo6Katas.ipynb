{
 "cells": [
  {
   "cell_type": "code",
   "execution_count": 1,
   "metadata": {},
   "outputs": [
    {
     "name": "stdout",
     "output_type": "stream",
     "text": [
      "8\n"
     ]
    }
   ],
   "source": [
    "# Creamos la lista planets y la mostramos\n",
    "\n",
    "planets = [ 'Mercury', 'Venus', 'Earth', 'Mars', 'Jupiter', 'Saturn', 'Uranus', 'Neptune']\n",
    "\n",
    "numero_planetas = len(planets)\n",
    "print (numero_planetas )\n",
    "# Agregamos a plutón y mostramos el último elemento\n",
    "planets.append('Pluto   ')\n",
    "\n",
    "\n"
   ]
  },
  {
   "cell_type": "code",
   "execution_count": 2,
   "metadata": {},
   "outputs": [
    {
     "name": "stdout",
     "output_type": "stream",
     "text": [
      "el ultimo planeta agregado es Pluto\n"
     ]
    }
   ],
   "source": [
    "planets = [ 'Mercury', 'Venus', 'Earth', 'Mars', 'Jupiter', 'Saturn', 'Uranus', 'Neptune']\n",
    "\n",
    "numero_planetas = len(planets)\n",
    "# Agregamos a plutón y mostramos el último elemento\n",
    "planets.append('Pluto')\n",
    "print ('el ultimo planeta agregado es', planets [-1])"
   ]
  },
  {
   "cell_type": "code",
   "execution_count": 13,
   "metadata": {},
   "outputs": [
    {
     "name": "stdout",
     "output_type": "stream",
     "text": [
      "2\n",
      "El planeta mas cercano al sol Earth\n",
      "['Mercury', 'Venus']\n",
      "El planeta mas lejano al solEarth\n",
      "['Mars', 'Jupiter', 'Saturn', 'Neptune']\n"
     ]
    }
   ],
   "source": [
    "# Lista de planetas\n",
    "planets = ['Mercury', 'Venus', 'Earth', 'Mars', 'Jupiter', 'Saturn', 'Neptune']\n",
    "\n",
    "# Solicitamos el nombre de un planeta *Pista:  input()*\n",
    "\n",
    "planeta1 = input ('dame el nombre de un planeta comenzado con una letra mayuscula y demas minusculas')\n",
    "\n",
    "# Busca el planeta en la lista\n",
    "busqueda = planets.index (planeta1)\n",
    "print (busqueda)\n",
    "\n",
    "# Muestra los planetas más cercanos al sol\n",
    "\n",
    "print('El planeta mas cercano al sol ' + planeta1)\n",
    "print(planets[0:busqueda])\n",
    "\n",
    "# Muestra los planetas más lejanos al sol\n",
    "\n",
    "print('El planeta mas lejano al sol' +  planeta1)\n",
    "print(planets[busqueda + 1])\n",
    "\n"
   ]
  }
 ],
 "metadata": {
  "interpreter": {
   "hash": "9e3a67d1fc76d28119c8a11f0e8493905afe0c789fbfd35e251f62c4c8c746f1"
  },
  "kernelspec": {
   "display_name": "Python 3.10.2 64-bit",
   "language": "python",
   "name": "python3"
  },
  "language_info": {
   "codemirror_mode": {
    "name": "ipython",
    "version": 3
   },
   "file_extension": ".py",
   "mimetype": "text/x-python",
   "name": "python",
   "nbconvert_exporter": "python",
   "pygments_lexer": "ipython3",
   "version": "3.10.2"
  },
  "orig_nbformat": 4
 },
 "nbformat": 4,
 "nbformat_minor": 2
}
