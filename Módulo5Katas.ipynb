{
 "cells": [
  {
   "cell_type": "code",
   "execution_count": null,
   "metadata": {},
   "outputs": [],
   "source": [
    "# Crear variables para almacenar las dos distancias\n",
    "# ¡Asegúrate de quitar las comas!\n",
    "\n",
    "planeta1 = 149597870\n",
    "planeta2 = 778547200\n",
    "\n"
   ]
  },
  {
   "cell_type": "code",
   "execution_count": 4,
   "metadata": {},
   "outputs": [
    {
     "name": "stdout",
     "output_type": "stream",
     "text": [
      "628949330 390577533.93\n"
     ]
    }
   ],
   "source": [
    "# Calcular la distancia entre planetas\n",
    "tierra = 149597870 # km\n",
    "jupiter = 778547200 #k\n",
    "difference = (jupiter - tierra)\n",
    "millas= difference * 0.621\n",
    "print (difference, millas)"
   ]
  },
  {
   "cell_type": "code",
   "execution_count": 7,
   "metadata": {},
   "outputs": [
    {
     "name": "stdout",
     "output_type": "stream",
     "text": [
      "-720647200\n",
      "447521911.2\n"
     ]
    }
   ],
   "source": [
    "# Almacenar las entradas del usuario\n",
    "planeta1 = input('distancia del sol para el primer planeta')\n",
    "planeta2 = input('distancia desde el sol para el segundo planeta ')\n",
    "\n",
    "planeta1 = int (planeta1)\n",
    "planeta2 = int (planeta2)\n",
    "\n",
    "distancia = planeta1 - planeta2\n",
    "print (distancia)\n",
    "\n",
    "#Pasar a millas\n",
    "\n",
    "millas= distancia * 0.621\n",
    "print (abs(millas))\n",
    "\n",
    "\n"
   ]
  }
 ],
 "metadata": {
  "interpreter": {
   "hash": "9e3a67d1fc76d28119c8a11f0e8493905afe0c789fbfd35e251f62c4c8c746f1"
  },
  "kernelspec": {
   "display_name": "Python 3.10.2 64-bit",
   "language": "python",
   "name": "python3"
  },
  "language_info": {
   "codemirror_mode": {
    "name": "ipython",
    "version": 3
   },
   "file_extension": ".py",
   "mimetype": "text/x-python",
   "name": "python",
   "nbconvert_exporter": "python",
   "pygments_lexer": "ipython3",
   "version": "3.10.2"
  },
  "orig_nbformat": 4
 },
 "nbformat": 4,
 "nbformat_minor": 2
}
