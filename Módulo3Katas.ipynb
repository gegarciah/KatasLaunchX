{
  "cells": [
    {
      "cell_type": "markdown",
      "metadata": {},
      "source": [
        "problema 1"
      ]
    },
    {
      "cell_type": "code",
      "execution_count": 13,
      "metadata": {},
      "outputs": [
        {
          "name": "stdout",
          "output_type": "stream",
          "text": [
            "Un asteroide se acerca a la tierra\n"
          ]
        }
      ],
      "source": [
        "# Añadir el código necesario para crear una variable que guarde la velocidad del asteroide.\n",
        "# Escribe una expresión de prueba para calcular si necesita una advertencia.\n",
        "# Agregue las instrucciones que se ejecutarán si la expresión de prueba es true o false.\n",
        "asteroide = 49\n",
        "if asteroide > 25:\n",
        "    print('Un asteroide se acerca a la tierra')\n",
        "else:\n",
        "    print('falsa alarma')"
      ]
    },
    {
      "cell_type": "markdown",
      "metadata": {},
      "source": [
        "Problema 2"
      ]
    },
    {
      "cell_type": "code",
      "execution_count": 16,
      "metadata": {},
      "outputs": [
        {
          "name": "stdout",
          "output_type": "stream",
          "text": [
            "no hay nada que ver\n"
          ]
        }
      ],
      "source": [
        "# Agrega el código para crear una variable para un asteroide que viaja a 19 km/s\n",
        "# Escribe varias expresiones de prueba para determinar si puedes ver el rayo de luz desde la tierra\n",
        "# Agrega las instrucciones que se ejecutarán si las expresiones de prueba son True o False\n",
        "\n",
        "asteroide = 19\n",
        "if asteroide > 20:\n",
        "    print('Se puede ver la luz de un asteroide')\n",
        "elif asteroide == 20:\n",
        "    print('Se puede ver la luz de un asteroide')\n",
        "\n",
        "else:\n",
        "     print ('no hay nada que ver')"
      ]
    },
    {
      "cell_type": "markdown",
      "metadata": {},
      "source": [
        "Probelma 3"
      ]
    },
    {
      "cell_type": "code",
      "execution_count": 17,
      "metadata": {},
      "outputs": [
        {
          "name": "stdout",
          "output_type": "stream",
          "text": [
            "se puede observa la luz de una asteroide\n"
          ]
        }
      ],
      "source": [
        "# Agrega el código para crear nuevas variables para la velocidad y el tamaño del asteroide\n",
        "# Para probar el código, prueba con varias velocidades y tamaños\n",
        "# Escribe varias expresiones de prueba o combinaciones de expresiones de prueba para determinar qué mensaje se debe enviar a Tierra.\n",
        "velocidad_asteroide = 25\n",
        "tamaño_asteroide = 40\n",
        "if velocidad_asteroide > 25 and tamaño_asteroide > 25:\n",
        "    print('un asteroide se acerca a la tierra')\n",
        "elif velocidad_asteroide >= 20:\n",
        "    print('se puede observa la luz de una asteroide')\n",
        "elif tamaño_asteroide < 25:\n",
        "    print('No pasa nada :)')\n",
        "else:\n",
        "    print('Falsa alarma')\n"
      ]
    }
  ],
  "metadata": {
    "interpreter": {
      "hash": "916dbcbb3f70747c44a77c7bcd40155683ae19c65e1c03b4aa3499c5328201f1"
    },
    "kernel_info": {
      "name": "conda-env-py37_default-py"
    },
    "kernelspec": {
      "display_name": "py37_default",
      "language": "python",
      "name": "python3"
    },
    "language_info": {
      "codemirror_mode": {
        "name": "ipython",
        "version": 3
      },
      "file_extension": ".py",
      "mimetype": "text/x-python",
      "name": "python",
      "nbconvert_exporter": "python",
      "pygments_lexer": "ipython3",
      "version": "3.10.2"
    },
    "nteract": {
      "version": "nteract-front-end@1.0.0"
    },
    "orig_nbformat": 4
  },
  "nbformat": 4,
  "nbformat_minor": 2
}
